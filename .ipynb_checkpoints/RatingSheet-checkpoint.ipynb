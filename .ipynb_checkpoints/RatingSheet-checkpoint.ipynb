{
 "cells": [
  {
   "cell_type": "code",
   "execution_count": 1,
   "metadata": {},
   "outputs": [],
   "source": [
    "import pandas as pd\n",
    "import numpy as np\n",
    "import os\n",
    "from collections import defaultdict"
   ]
  },
  {
   "cell_type": "markdown",
   "metadata": {},
   "source": [
    "### Rating Sheet Generation"
   ]
  },
  {
   "cell_type": "code",
   "execution_count": 2,
   "metadata": {},
   "outputs": [],
   "source": [
    "def generate_sheet(file_name, target_list, rate_str):\n",
    "    data = pd.read_excel(file_name)\n",
    "    pure = data[target_list]\n",
    "    pure = pure.sample(frac=1)\n",
    "    pure[rate_str] = np.nan\n",
    "    return pure"
   ]
  },
  {
   "cell_type": "code",
   "execution_count": 4,
   "metadata": {},
   "outputs": [],
   "source": [
    "for index in range(20):\n",
    "    writer = pd.ExcelWriter('Rating Sheets\\AoA_stage\\AoA_stage_{}.xlsx'.format(index))\n",
    "    noun_sheet = generate_sheet('freq_noun_merged_selected.xlsx', ['pinyin', 'word'], 'AoA stage')\n",
    "    verb_sheet = generate_sheet('freq_verb_merged_selected.xlsx', ['pinyin', 'word'], 'AoA stage')\n",
    "    noun_sheet.to_excel(writer, sheet_name='nouns')\n",
    "    verb_sheet.to_excel(writer, sheet_name='verbs')\n",
    "    writer.save()"
   ]
  },
  {
   "cell_type": "code",
   "execution_count": 5,
   "metadata": {},
   "outputs": [],
   "source": [
    "for index in range(20):\n",
    "    writer = pd.ExcelWriter('Rating Sheets\\imageability\\imageability_{}.xlsx'.format(index))\n",
    "    noun_sheet = generate_sheet('freq_noun_merged_selected.xlsx', ['pinyin', 'word'], 'imageability')\n",
    "    verb_sheet = generate_sheet('freq_verb_merged_selected.xlsx', ['pinyin', 'word'], 'imageability')\n",
    "    noun_sheet.to_excel(writer, sheet_name='nouns')\n",
    "    verb_sheet.to_excel(writer, sheet_name='verbs')\n",
    "    writer.save()"
   ]
  },
  {
   "cell_type": "code",
   "execution_count": 6,
   "metadata": {},
   "outputs": [],
   "source": [
    "# for index in range(20):\n",
    "#     dir_name = 'rating_sheets\\\\packages\\\\packed_{}'.format(index)\n",
    "#     os.makedirs(dir_name)\n",
    "\n",
    "#     instr_file = 'rating_sheets\\\\instruction_AoAstage.txt'\n",
    "#     target_file = dir_name + '\\\\instruction_AoAstage.txt'\n",
    "#     os.system('copy {} {}'.format(instr_file, target_file))\n",
    "\n",
    "#     instr_file = 'rating_sheets\\\\instruction_imageability.txt'\n",
    "#     target_file = dir_name + '\\\\instruction_imageability.txt'\n",
    "#     os.system('copy {} {}'.format(instr_file, target_file))\n",
    "\n",
    "#     instr_file = 'rating_sheets\\\\AoA_stage\\\\AoA_stage_{}.xlsx'.format(index)\n",
    "#     target_file = dir_name + '\\\\AoA_stage_{}.xlsx'.format(index)\n",
    "#     os.system('copy {} {}'.format(instr_file, target_file))\n",
    "\n",
    "#     instr_file = 'rating_sheets\\\\imageability\\\\imageability_{}.xlsx'.format(index)\n",
    "#     target_file = dir_name + '\\\\imageability_{}.xlsx'.format(index)\n",
    "#     os.system('copy {} {}'.format(instr_file, target_file))"
   ]
  },
  {
   "cell_type": "markdown",
   "metadata": {},
   "source": [
    "### Rating Sheet Results Processing\n",
    "#### This part has been integrated into DataPreprocessing.ipynb"
   ]
  }
 ],
 "metadata": {
  "kernelspec": {
   "display_name": "Python 3",
   "language": "python",
   "name": "python3"
  },
  "language_info": {
   "codemirror_mode": {
    "name": "ipython",
    "version": 3
   },
   "file_extension": ".py",
   "mimetype": "text/x-python",
   "name": "python",
   "nbconvert_exporter": "python",
   "pygments_lexer": "ipython3",
   "version": "3.7.0"
  }
 },
 "nbformat": 4,
 "nbformat_minor": 2
}
